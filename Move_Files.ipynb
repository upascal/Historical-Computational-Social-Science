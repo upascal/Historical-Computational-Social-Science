{
  "nbformat": 4,
  "nbformat_minor": 0,
  "metadata": {
    "colab": {
      "name": "Move_Files.ipynb",
      "provenance": [],
      "authorship_tag": "ABX9TyMOtaQ29FUwxbEzMpVKSiX2",
      "include_colab_link": true
    },
    "kernelspec": {
      "name": "python3",
      "display_name": "Python 3"
    }
  },
  "cells": [
    {
      "cell_type": "markdown",
      "metadata": {
        "id": "view-in-github",
        "colab_type": "text"
      },
      "source": [
        "<a href=\"https://colab.research.google.com/github/upascal/Historical-Computational-Social-Science/blob/main/Move_Files.ipynb\" target=\"_parent\"><img src=\"https://colab.research.google.com/assets/colab-badge.svg\" alt=\"Open In Colab\"/></a>"
      ]
    },
    {
      "cell_type": "markdown",
      "metadata": {
        "id": "phXEDETAlQ-v"
      },
      "source": [
        "##Move Files"
      ]
    },
    {
      "cell_type": "code",
      "metadata": {
        "id": "DYCuxZAGlNz7"
      },
      "source": [
        "#move files\n",
        "import os\n",
        "from os import path\n",
        "import shutil\n",
        "\n",
        "#Define source and target directories\n",
        "src = '/content/drive/My Drive/Dissertation/'\n",
        "dst = '/content/drive/My Drive/contemporary_art/'\n",
        "\n",
        "#set file conditons \n",
        "files = [i for i in os.listdir(src) if i.endswith(\".txt\") and path.isfile(path.join(src, i))]\n",
        "\n",
        "#move all files in source directory\n",
        "for f in files:\n",
        "    shutil.move(path.join(src, f), dst)\n",
        "    print(\"moved{}\".format(f))"
      ],
      "execution_count": null,
      "outputs": []
    }
  ]
}