{
  "nbformat": 4,
  "nbformat_minor": 0,
  "metadata": {
    "colab": {
      "name": "LDA_GridSearch.ipynb",
      "provenance": [],
      "authorship_tag": "ABX9TyNdlZTVU9bpUxUrLE1PbD2J",
      "include_colab_link": true
    },
    "kernelspec": {
      "name": "python3",
      "display_name": "Python 3"
    }
  },
  "cells": [
    {
      "cell_type": "markdown",
      "metadata": {
        "id": "view-in-github",
        "colab_type": "text"
      },
      "source": [
        "<a href=\"https://colab.research.google.com/github/upascal/Historical-Computational-Social-Science/blob/main/LDA_GridSearch.ipynb\" target=\"_parent\"><img src=\"https://colab.research.google.com/assets/colab-badge.svg\" alt=\"Open In Colab\"/></a>"
      ]
    },
    {
      "cell_type": "code",
      "metadata": {
        "id": "DzqsY1Eh5_fO"
      },
      "source": [
        ""
      ],
      "execution_count": null,
      "outputs": []
    },
    {
      "cell_type": "markdown",
      "metadata": {
        "id": "2EPvYb-j6Sr-"
      },
      "source": [
        "##LDA in Python – How to grid search best topic models?\n",
        "by Selva Prabhakaran\n",
        "\n",
        "Python’s Scikit Learn provides a convenient interface for topic modeling using algorithms like Latent Dirichlet allocation(LDA), LSI and Non-Negative Matrix Factorization. In this tutorial, you will learn how to build the best possible LDA topic model and explore how to showcase the outputs as meaningful results.\n",
        "\n",
        "From:\n",
        "https://www.machinelearningplus.com/nlp/topic-modeling-python-sklearn-examples/"
      ]
    }
  ]
}