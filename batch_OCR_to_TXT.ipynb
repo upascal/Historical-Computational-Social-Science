{
  "nbformat": 4,
  "nbformat_minor": 0,
  "metadata": {
    "colab": {
      "name": "batch_OCR_to_TXT",
      "provenance": [],
      "collapsed_sections": [
        "edzhZXHq4L4s",
        "FO988BYG2xQc",
        "iylv7fOkpSFD"
      ],
      "toc_visible": true,
      "machine_shape": "hm",
      "include_colab_link": true
    },
    "kernelspec": {
      "name": "python3",
      "display_name": "Python 3"
    }
  },
  "cells": [
    {
      "cell_type": "markdown",
      "metadata": {
        "id": "view-in-github",
        "colab_type": "text"
      },
      "source": [
        "<a href=\"https://colab.research.google.com/github/upascal/Historical-Computational-Social-Science/blob/main/batch_OCR_to_TXT.ipynb\" target=\"_parent\"><img src=\"https://colab.research.google.com/assets/colab-badge.svg\" alt=\"Open In Colab\"/></a>"
      ]
    },
    {
      "cell_type": "markdown",
      "metadata": {
        "id": "6zKf91i60s-8"
      },
      "source": [
        "****Batch OCR PDF to TXT with Tesseract****"
      ]
    },
    {
      "cell_type": "markdown",
      "metadata": {
        "id": "uzNHlcs7KTnI"
      },
      "source": [
        "Code based on \n",
        "https://colab.research.google.com/drive/1UqCSFTFF4Pi3RxS-iGL7-H_sGIgccusO\n",
        "\n",
        "changes:\n",
        "Removed natas.\n",
        "Added batch processing"
      ]
    },
    {
      "cell_type": "markdown",
      "metadata": {
        "id": "edzhZXHq4L4s"
      },
      "source": [
        "# Install dependencies"
      ]
    },
    {
      "cell_type": "code",
      "metadata": {
        "id": "IhDZSF2D1bhJ"
      },
      "source": [
        "%%shell\n",
        "pip install --pre torch torchvision -f https://download.pytorch.org/whl/nightly/cu102/torch_nightly.html -U\n",
        "sudo apt-get install tesseract-ocr tesseract-ocr-por\n",
        "sudo apt-get install -y libsm6 libxext6 libxrender-dev\n",
        "sudo apt-get install -y poppler-utils\n",
        "\n",
        "pip install pytesseract\n",
        "pip install pdf2image"
      ],
      "execution_count": null,
      "outputs": []
    },
    {
      "cell_type": "code",
      "metadata": {
        "id": "F8GtCJ78GW7R"
      },
      "source": [
        "#NOTE: Natas doesn't work in colab because it requires an older version of pytorch \n",
        "\n",
        "#%%shell\n",
        "#pip3 install natas\n",
        "#python3 -m natas.download\n",
        "#python3 -m spacy download en_core_web_md"
      ],
      "execution_count": null,
      "outputs": []
    },
    {
      "cell_type": "markdown",
      "metadata": {
        "id": "FO988BYG2xQc"
      },
      "source": [
        "#Imports"
      ]
    },
    {
      "cell_type": "code",
      "metadata": {
        "id": "FPCDWQNp2yVk"
      },
      "source": [
        "\n",
        "#Libraries for PDF image conversion \n",
        "from pdf2image import convert_from_bytes, convert_from_path\n",
        "import pytesseract\n",
        "import numpy as np\n",
        "import cv2\n",
        "from PIL import Image\n",
        "from google.colab.patches import cv2_imshow\n",
        "\n",
        "\n",
        "#File Mangement\n",
        "import re\n",
        "import os\n",
        "from google.colab import drive\n",
        "from google.colab import files"
      ],
      "execution_count": null,
      "outputs": []
    },
    {
      "cell_type": "markdown",
      "metadata": {
        "id": "1KyzRWkj4Sft"
      },
      "source": [
        "# Mount PDF Folder from Drive"
      ]
    },
    {
      "cell_type": "code",
      "metadata": {
        "id": "QIQrVPLHHQU2"
      },
      "source": [
        "#Mount Google Drive\n",
        "drive.mount('/content/drive') #(click, copy, press enter)"
      ],
      "execution_count": null,
      "outputs": []
    },
    {
      "cell_type": "code",
      "metadata": {
        "id": "y_3FGZM-LPdj"
      },
      "source": [
        "#Inspect Directory\n",
        "!ls"
      ],
      "execution_count": null,
      "outputs": []
    },
    {
      "cell_type": "code",
      "metadata": {
        "id": "FllRyZJBLjqt"
      },
      "source": [
        "#NOTE: Use the site menu to find file path\n",
        "\n",
        "#Change Directory to data folder\n",
        "%cd /content/drive/My Drive/Dissertation/Data/Annual Reports/SEC"
      ],
      "execution_count": null,
      "outputs": []
    },
    {
      "cell_type": "code",
      "metadata": {
        "id": "iwjq-Dhd2EVj"
      },
      "source": [
        "#Make new directory for text ouptut \n",
        "!mkdir text_output"
      ],
      "execution_count": null,
      "outputs": []
    },
    {
      "cell_type": "code",
      "metadata": {
        "id": "v3gI15i-IiQ6"
      },
      "source": [
        "#Set directory variables\n",
        "directory = '/content/drive/My Drive/Dissertation/Data/Annual Reports/SEC'\n",
        "new_directory = directory+\"/text_output/\""
      ],
      "execution_count": null,
      "outputs": []
    },
    {
      "cell_type": "markdown",
      "metadata": {
        "id": "iylv7fOkpSFD"
      },
      "source": [
        "# Define OCR Functions"
      ]
    },
    {
      "cell_type": "code",
      "metadata": {
        "id": "xGoFYDHmpTgF"
      },
      "source": [
        "def binarization(image):\n",
        "    \"\"\"\n",
        "\n",
        "    Function that applies binarization to the image.\n",
        "\n",
        "    Parameters\n",
        "    ----------\n",
        "    image : PIL.Image.Image\n",
        "        Image to be binarized.\n",
        "\n",
        "    Returns\n",
        "    -------\n",
        "    PIL.Image.Image\n",
        "        Binarized image.\n",
        "    \"\"\" \n",
        "    image = image.convert('RGB')\n",
        "    npimage = np.asarray(image).astype(np.uint8)  \n",
        "    npimage[:, :, 0] = 0\n",
        "    npimage[:, :, 2] = 0\n",
        "    im = cv2.cvtColor(npimage, cv2.COLOR_RGB2GRAY) \n",
        "    thresh = cv2.adaptiveThreshold(im,255,cv2.ADAPTIVE_THRESH_MEAN_C, cv2.THRESH_BINARY,11,2)\n",
        "    binimage = Image.fromarray(thresh) \n",
        "    return binimage\n",
        "\n",
        "\n",
        "def get_pages_as_images(file):\n",
        "    \"\"\"\n",
        "    Converts PDF pages into an image and performs binarization.\n",
        "  \n",
        "    Parameters\n",
        "    ----------\n",
        "    file : bytes\n",
        "        Document in `bytes` containing the `PDF`.\n",
        "\n",
        "    Returns\n",
        "    -------\n",
        "    PIL.Image.Image\n",
        "        Document transformed into image and binariezed\n",
        "    \"\"\" \n",
        "    images = convert_from_bytes(file, 250, grayscale=True)\n",
        "    images_return = []\n",
        "    num_page = 1\n",
        "    for image in images:\n",
        "        left = image.size[0]*0.05\n",
        "        right = image.size[0]*0.95\n",
        "        top = image.size[1]*0.05\n",
        "        bottom = image.size[1]*0.95\n",
        "        image = image.crop((left, top, right,bottom))\n",
        "        images_return.append(binarization(image))\n",
        "        \n",
        "    return images_return\n",
        "\n",
        "def get_ocr_documents(images):\n",
        "    \"\"\"\n",
        "\n",
        "    Cycles through PDF images with pytesseract and converts images to string.\n",
        "    \n",
        "    Parameters\n",
        "    ----------\n",
        "    images : PIL.Image.Image\n",
        "        Images resulting from PDF conversion.\n",
        "\n",
        "    Returns\n",
        "    -------\n",
        "    String\n",
        "        A text containing all pages from the PDF.\n",
        "    \"\"\" \n",
        "\n",
        "    pages_text = []\n",
        "    for image in images:\n",
        "      #https://stackoverflow.com/questions/44619077/pytesseract-ocr-multiple-config-options\n",
        "      pages_text.append(pytesseract.image_to_string(image, config='--psm 4' ,lang='eng'))\n",
        "    return ''.join(pages_text)\n",
        "\n",
        "def is_number(s):\n",
        "    \"\"\"\n",
        "\n",
        "    Checks if the variable is a number\n",
        "    \n",
        "    Parameters\n",
        "    ----------\n",
        "    image : int\n",
        "        The first parameter.\n",
        "\n",
        "    Returns\n",
        "    -------\n",
        "    bool\n",
        "        True if the type change occurs. False otherwise.\n",
        "    \"\"\" \n",
        "    try:\n",
        "        float(s)\n",
        "        return True\n",
        "    except ValueError:\n",
        "        return False"
      ],
      "execution_count": null,
      "outputs": []
    },
    {
      "cell_type": "markdown",
      "metadata": {
        "id": "pgB0efIII7TH"
      },
      "source": [
        "# Run OCR on documents\n"
      ]
    },
    {
      "cell_type": "code",
      "metadata": {
        "id": "s2viqke5qBuX"
      },
      "source": [
        "for filename in os.listdir(directory):\n",
        "    \n",
        "    if filename.endswith(\".pdf\"):\n",
        "        print(\"Starting OCR on {}\".format(filename))\n",
        "        #Load PDF\n",
        "        file_path = os.path.join(directory, filename)\n",
        "        pdf_file = open(file_path, \"rb\").read()\n",
        "\n",
        "        #OCR PDF\n",
        "        images = get_pages_as_images(pdf_file) \n",
        "        pages_text = get_ocr_documents(images)\n",
        "        print(\"Finished OCR\")\n",
        "\n",
        "        #Save to new Directory as TXT\n",
        "        base_name = os.path.splitext(os.path.basename(filename))[0] #removes \"PDF\"\n",
        "        output_file_name = \"{}_OCR.txt\".format(base_name) #creates output file name\n",
        "        output_file_path = new_directory+output_file_name\n",
        "        with open(output_file_path, 'w') as f:\n",
        "          f.write(pages_text)\n",
        "        print(\"Saved text as {}\".format(output_file_name))\n",
        "\n",
        "    else:\n",
        "        print(\"{} is not a PDF\".format(filename))\n",
        "        continue\n",
        "\n",
        "\n",
        "\n"
      ],
      "execution_count": null,
      "outputs": []
    },
    {
      "cell_type": "markdown",
      "metadata": {
        "id": "a9VIl5R_2WTK"
      },
      "source": [
        "Go to text_output Drive folder to view "
      ]
    },
    {
      "cell_type": "code",
      "metadata": {
        "id": "g0xhyxdO2iFn"
      },
      "source": [
        "%cd directory+\"/text_output/\""
      ],
      "execution_count": null,
      "outputs": []
    }
  ]
}