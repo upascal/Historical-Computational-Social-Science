{
  "nbformat": 4,
  "nbformat_minor": 0,
  "metadata": {
    "colab": {
      "name": "batch_OCR_to_TXT",
      "provenance": [],
      "collapsed_sections": [
        "edzhZXHq4L4s",
        "FO988BYG2xQc",
        "iylv7fOkpSFD"
      ],
      "toc_visible": true,
      "machine_shape": "hm",
      "include_colab_link": true
    },
    "kernelspec": {
      "name": "python3",
      "display_name": "Python 3"
    }
  },
  "cells": [
    {
      "cell_type": "markdown",
      "metadata": {
        "id": "view-in-github",
        "colab_type": "text"
      },
      "source": [
        "<a href=\"https://colab.research.google.com/github/upascal/Historical-Computational-Social-Science/blob/main/batch_OCR_to_TXT.ipynb\" target=\"_parent\"><img src=\"https://colab.research.google.com/assets/colab-badge.svg\" alt=\"Open In Colab\"/></a>"
      ]
    },
    {
      "cell_type": "markdown",
      "metadata": {
        "id": "6zKf91i60s-8"
      },
      "source": [
        "****Batch OCR PDF to TXT with Tesseract****"
      ]
    },
    {
      "cell_type": "markdown",
      "metadata": {
        "id": "uzNHlcs7KTnI"
      },
      "source": [
        "Code based on \n",
        "https://colab.research.google.com/drive/1UqCSFTFF4Pi3RxS-iGL7-H_sGIgccusO\n",
        "\n",
        "changes:\n",
        "Removed natas.\n",
        "Added batch processing"
      ]
    },
    {
      "cell_type": "markdown",
      "metadata": {
        "id": "edzhZXHq4L4s"
      },
      "source": [
        "# Install dependencies"
      ]
    },
    {
      "cell_type": "code",
      "metadata": {
        "id": "IhDZSF2D1bhJ",
        "colab": {
          "base_uri": "https://localhost:8080/"
        },
        "outputId": "315e80d1-97ba-4ecf-e665-c117cde64770"
      },
      "source": [
        "%%shell\n",
        "pip install --pre torch torchvision -f https://download.pytorch.org/whl/nightly/cu102/torch_nightly.html -U\n",
        "sudo apt-get install tesseract-ocr tesseract-ocr-por\n",
        "sudo apt-get install -y libsm6 libxext6 libxrender-dev\n",
        "sudo apt-get install -y poppler-utils\n",
        "\n",
        "pip install pytesseract\n",
        "pip install pdf2image"
      ],
      "execution_count": 5,
      "outputs": [
        {
          "output_type": "stream",
          "text": [
            "Looking in links: https://download.pytorch.org/whl/nightly/cu102/torch_nightly.html\n",
            "Collecting torch\n",
            "\u001b[?25l  Downloading https://download.pytorch.org/whl/nightly/cu102/torch-1.9.0.dev20210211-cp36-cp36m-linux_x86_64.whl (857.1MB)\n",
            "\u001b[K     |███████████████████████████████▏| 834.1MB 1.0MB/s eta 0:00:22tcmalloc: large alloc 1147494400 bytes == 0x39710000 @  0x7f2f9d947615 0x591e47 0x4cc179 0x4cc2db 0x50a1cc 0x50beb4 0x507be4 0x509900 0x50a2fd 0x50beb4 0x507be4 0x509900 0x50a2fd 0x50cc96 0x58e683 0x50c127 0x58e683 0x50c127 0x58e683 0x50c127 0x58e683 0x5f7832 0x4e5493 0x5515c1 0x5a9dac 0x50a433 0x50cc96 0x5095c8 0x50a2fd 0x50beb4 0x507be4\n",
            "\u001b[K     |████████████████████████████████| 857.1MB 20kB/s \n",
            "\u001b[?25hCollecting torchvision\n",
            "\u001b[?25l  Downloading https://download.pytorch.org/whl/nightly/cu102/torchvision-0.9.0.dev20210211-cp36-cp36m-linux_x86_64.whl (17.4MB)\n",
            "\u001b[K     |████████████████████████████████| 17.4MB 240kB/s \n",
            "\u001b[?25hRequirement already satisfied, skipping upgrade: typing-extensions in /usr/local/lib/python3.6/dist-packages (from torch) (3.7.4.3)\n",
            "Requirement already satisfied, skipping upgrade: dataclasses; python_version < \"3.7\" in /usr/local/lib/python3.6/dist-packages (from torch) (0.8)\n",
            "Requirement already satisfied, skipping upgrade: numpy in /usr/local/lib/python3.6/dist-packages (from torch) (1.19.5)\n",
            "Requirement already satisfied, skipping upgrade: pillow>=4.1.1 in /usr/local/lib/python3.6/dist-packages (from torchvision) (7.0.0)\n",
            "Installing collected packages: torch, torchvision\n",
            "  Found existing installation: torch 1.7.0+cu101\n",
            "    Uninstalling torch-1.7.0+cu101:\n",
            "      Successfully uninstalled torch-1.7.0+cu101\n",
            "  Found existing installation: torchvision 0.8.1+cu101\n",
            "    Uninstalling torchvision-0.8.1+cu101:\n",
            "      Successfully uninstalled torchvision-0.8.1+cu101\n",
            "Successfully installed torch-1.9.0.dev20210211 torchvision-0.9.0.dev20210211\n",
            "Reading package lists... Done\n",
            "Building dependency tree       \n",
            "Reading state information... Done\n",
            "The following additional packages will be installed:\n",
            "  tesseract-ocr-eng tesseract-ocr-osd\n",
            "The following NEW packages will be installed:\n",
            "  tesseract-ocr tesseract-ocr-eng tesseract-ocr-osd tesseract-ocr-por\n",
            "0 upgraded, 4 newly installed, 0 to remove and 17 not upgraded.\n",
            "Need to get 5,650 kB of archives.\n",
            "After this operation, 17.8 MB of additional disk space will be used.\n",
            "Get:1 http://archive.ubuntu.com/ubuntu bionic/universe amd64 tesseract-ocr-eng all 4.00~git24-0e00fe6-1.2 [1,588 kB]\n",
            "Get:2 http://archive.ubuntu.com/ubuntu bionic/universe amd64 tesseract-ocr-osd all 4.00~git24-0e00fe6-1.2 [2,989 kB]\n",
            "Get:3 http://archive.ubuntu.com/ubuntu bionic/universe amd64 tesseract-ocr amd64 4.00~git2288-10f4998a-2 [218 kB]\n",
            "Get:4 http://archive.ubuntu.com/ubuntu bionic/universe amd64 tesseract-ocr-por all 4.00~git24-0e00fe6-1.2 [856 kB]\n",
            "Fetched 5,650 kB in 1s (5,362 kB/s)\n",
            "debconf: unable to initialize frontend: Dialog\n",
            "debconf: (No usable dialog-like program is installed, so the dialog based frontend cannot be used. at /usr/share/perl5/Debconf/FrontEnd/Dialog.pm line 76, <> line 4.)\n",
            "debconf: falling back to frontend: Readline\n",
            "debconf: unable to initialize frontend: Readline\n",
            "debconf: (This frontend requires a controlling tty.)\n",
            "debconf: falling back to frontend: Teletype\n",
            "dpkg-preconfigure: unable to re-open stdin: \n",
            "Selecting previously unselected package tesseract-ocr-eng.\n",
            "(Reading database ... 146425 files and directories currently installed.)\n",
            "Preparing to unpack .../tesseract-ocr-eng_4.00~git24-0e00fe6-1.2_all.deb ...\n",
            "Unpacking tesseract-ocr-eng (4.00~git24-0e00fe6-1.2) ...\n",
            "Selecting previously unselected package tesseract-ocr-osd.\n",
            "Preparing to unpack .../tesseract-ocr-osd_4.00~git24-0e00fe6-1.2_all.deb ...\n",
            "Unpacking tesseract-ocr-osd (4.00~git24-0e00fe6-1.2) ...\n",
            "Selecting previously unselected package tesseract-ocr.\n",
            "Preparing to unpack .../tesseract-ocr_4.00~git2288-10f4998a-2_amd64.deb ...\n",
            "Unpacking tesseract-ocr (4.00~git2288-10f4998a-2) ...\n",
            "Selecting previously unselected package tesseract-ocr-por.\n",
            "Preparing to unpack .../tesseract-ocr-por_4.00~git24-0e00fe6-1.2_all.deb ...\n",
            "Unpacking tesseract-ocr-por (4.00~git24-0e00fe6-1.2) ...\n",
            "Setting up tesseract-ocr-osd (4.00~git24-0e00fe6-1.2) ...\n",
            "Setting up tesseract-ocr-eng (4.00~git24-0e00fe6-1.2) ...\n",
            "Setting up tesseract-ocr-por (4.00~git24-0e00fe6-1.2) ...\n",
            "Setting up tesseract-ocr (4.00~git2288-10f4998a-2) ...\n",
            "Processing triggers for man-db (2.8.3-2ubuntu0.1) ...\n",
            "Reading package lists... Done\n",
            "Building dependency tree       \n",
            "Reading state information... Done\n",
            "libsm6 is already the newest version (2:1.2.2-1).\n",
            "libxext6 is already the newest version (2:1.3.3-1).\n",
            "libxrender-dev is already the newest version (1:0.9.10-1).\n",
            "libxrender-dev set to manually installed.\n",
            "0 upgraded, 0 newly installed, 0 to remove and 17 not upgraded.\n",
            "Reading package lists... Done\n",
            "Building dependency tree       \n",
            "Reading state information... Done\n",
            "The following NEW packages will be installed:\n",
            "  poppler-utils\n",
            "0 upgraded, 1 newly installed, 0 to remove and 17 not upgraded.\n",
            "Need to get 154 kB of archives.\n",
            "After this operation, 613 kB of additional disk space will be used.\n",
            "Get:1 http://archive.ubuntu.com/ubuntu bionic-updates/main amd64 poppler-utils amd64 0.62.0-2ubuntu2.12 [154 kB]\n",
            "Fetched 154 kB in 1s (294 kB/s)\n",
            "debconf: unable to initialize frontend: Dialog\n",
            "debconf: (No usable dialog-like program is installed, so the dialog based frontend cannot be used. at /usr/share/perl5/Debconf/FrontEnd/Dialog.pm line 76, <> line 1.)\n",
            "debconf: falling back to frontend: Readline\n",
            "debconf: unable to initialize frontend: Readline\n",
            "debconf: (This frontend requires a controlling tty.)\n",
            "debconf: falling back to frontend: Teletype\n",
            "dpkg-preconfigure: unable to re-open stdin: \n",
            "Selecting previously unselected package poppler-utils.\n",
            "(Reading database ... 146476 files and directories currently installed.)\n",
            "Preparing to unpack .../poppler-utils_0.62.0-2ubuntu2.12_amd64.deb ...\n",
            "Unpacking poppler-utils (0.62.0-2ubuntu2.12) ...\n",
            "Setting up poppler-utils (0.62.0-2ubuntu2.12) ...\n",
            "Processing triggers for man-db (2.8.3-2ubuntu0.1) ...\n",
            "Collecting pytesseract\n",
            "  Downloading https://files.pythonhosted.org/packages/a0/e6/a4e9fc8a93c1318540e8de6d8d4beb5749b7960388a7c7f27799fc2dd016/pytesseract-0.3.7.tar.gz\n",
            "Requirement already satisfied: Pillow in /usr/local/lib/python3.6/dist-packages (from pytesseract) (7.0.0)\n",
            "Building wheels for collected packages: pytesseract\n",
            "  Building wheel for pytesseract (setup.py) ... \u001b[?25l\u001b[?25hdone\n",
            "  Created wheel for pytesseract: filename=pytesseract-0.3.7-py2.py3-none-any.whl size=13945 sha256=9b97faa1a5608b829ff80922ae211e159799991fda75cd2ac746868a5404e3a7\n",
            "  Stored in directory: /root/.cache/pip/wheels/81/20/7e/1dd0daad1575d5260916bb1e9781246430647adaef4b3ca3b3\n",
            "Successfully built pytesseract\n",
            "Installing collected packages: pytesseract\n",
            "Successfully installed pytesseract-0.3.7\n",
            "Collecting pdf2image\n",
            "  Downloading https://files.pythonhosted.org/packages/03/62/089030fd16ab3e5c245315d63c80b29250b8f9e4579b5a09306eb7e7539c/pdf2image-1.14.0-py3-none-any.whl\n",
            "Requirement already satisfied: pillow in /usr/local/lib/python3.6/dist-packages (from pdf2image) (7.0.0)\n",
            "Installing collected packages: pdf2image\n",
            "Successfully installed pdf2image-1.14.0\n"
          ],
          "name": "stdout"
        },
        {
          "output_type": "execute_result",
          "data": {
            "text/plain": [
              ""
            ]
          },
          "metadata": {
            "tags": []
          },
          "execution_count": 5
        }
      ]
    },
    {
      "cell_type": "code",
      "metadata": {
        "id": "F8GtCJ78GW7R"
      },
      "source": [
        "#NOTE: Natas doesn't work in colab because it requires an older version of pytorch \n",
        "\n",
        "#%%shell\n",
        "#pip3 install natas\n",
        "#python3 -m natas.download\n",
        "#python3 -m spacy download en_core_web_md"
      ],
      "execution_count": null,
      "outputs": []
    },
    {
      "cell_type": "markdown",
      "metadata": {
        "id": "FO988BYG2xQc"
      },
      "source": [
        "#Imports"
      ]
    },
    {
      "cell_type": "code",
      "metadata": {
        "id": "FPCDWQNp2yVk",
        "colab": {
          "base_uri": "https://localhost:8080/",
          "height": 368
        },
        "outputId": "742e07e9-2f29-4bca-8c8e-052f003599e9"
      },
      "source": [
        "\n",
        "#Libraries for PDF image conversion \n",
        "from pdf2image import convert_from_bytes, convert_from_path\n",
        "import pytesseract\n",
        "import numpy as np\n",
        "import cv2\n",
        "from PIL import Image\n",
        "from google.colab.patches import cv2_imshow\n",
        "\n",
        "\n",
        "#File Mangement\n",
        "import re\n",
        "import os\n",
        "from google.colab import drive\n",
        "from google.colab import files"
      ],
      "execution_count": 4,
      "outputs": [
        {
          "output_type": "error",
          "ename": "ModuleNotFoundError",
          "evalue": "ignored",
          "traceback": [
            "\u001b[0;31m---------------------------------------------------------------------------\u001b[0m",
            "\u001b[0;31mModuleNotFoundError\u001b[0m                       Traceback (most recent call last)",
            "\u001b[0;32m<ipython-input-4-1a80884a9344>\u001b[0m in \u001b[0;36m<module>\u001b[0;34m()\u001b[0m\n\u001b[1;32m      1\u001b[0m \u001b[0;34m\u001b[0m\u001b[0m\n\u001b[1;32m      2\u001b[0m \u001b[0;31m#Libraries for PDF image conversion\u001b[0m\u001b[0;34m\u001b[0m\u001b[0;34m\u001b[0m\u001b[0;34m\u001b[0m\u001b[0m\n\u001b[0;32m----> 3\u001b[0;31m \u001b[0;32mfrom\u001b[0m \u001b[0mpdf2image\u001b[0m \u001b[0;32mimport\u001b[0m \u001b[0mconvert_from_bytes\u001b[0m\u001b[0;34m,\u001b[0m \u001b[0mconvert_from_path\u001b[0m\u001b[0;34m\u001b[0m\u001b[0;34m\u001b[0m\u001b[0m\n\u001b[0m\u001b[1;32m      4\u001b[0m \u001b[0;32mimport\u001b[0m \u001b[0mpytesseract\u001b[0m\u001b[0;34m\u001b[0m\u001b[0;34m\u001b[0m\u001b[0m\n\u001b[1;32m      5\u001b[0m \u001b[0;32mimport\u001b[0m \u001b[0mnumpy\u001b[0m \u001b[0;32mas\u001b[0m \u001b[0mnp\u001b[0m\u001b[0;34m\u001b[0m\u001b[0;34m\u001b[0m\u001b[0m\n",
            "\u001b[0;31mModuleNotFoundError\u001b[0m: No module named 'pdf2image'",
            "",
            "\u001b[0;31m---------------------------------------------------------------------------\u001b[0;32m\nNOTE: If your import is failing due to a missing package, you can\nmanually install dependencies using either !pip or !apt.\n\nTo view examples of installing some common dependencies, click the\n\"Open Examples\" button below.\n\u001b[0;31m---------------------------------------------------------------------------\u001b[0m\n"
          ]
        }
      ]
    },
    {
      "cell_type": "markdown",
      "metadata": {
        "id": "1KyzRWkj4Sft"
      },
      "source": [
        "# Mount PDF Folder from Drive"
      ]
    },
    {
      "cell_type": "code",
      "metadata": {
        "colab": {
          "base_uri": "https://localhost:8080/",
          "height": 181
        },
        "id": "QIQrVPLHHQU2",
        "outputId": "7a4babcf-b841-479d-acef-30b3b12eb336"
      },
      "source": [
        "#Mount Google Drive\n",
        "drive.mount('/content/drive') #(click, copy, press enter)"
      ],
      "execution_count": 3,
      "outputs": [
        {
          "output_type": "error",
          "ename": "NameError",
          "evalue": "ignored",
          "traceback": [
            "\u001b[0;31m---------------------------------------------------------------------------\u001b[0m",
            "\u001b[0;31mNameError\u001b[0m                                 Traceback (most recent call last)",
            "\u001b[0;32m<ipython-input-3-b010dd2fe9b4>\u001b[0m in \u001b[0;36m<module>\u001b[0;34m()\u001b[0m\n\u001b[1;32m      1\u001b[0m \u001b[0;31m#Mount Google Drive\u001b[0m\u001b[0;34m\u001b[0m\u001b[0;34m\u001b[0m\u001b[0;34m\u001b[0m\u001b[0m\n\u001b[0;32m----> 2\u001b[0;31m \u001b[0mdrive\u001b[0m\u001b[0;34m.\u001b[0m\u001b[0mmount\u001b[0m\u001b[0;34m(\u001b[0m\u001b[0;34m'/content/drive'\u001b[0m\u001b[0;34m)\u001b[0m \u001b[0;31m#(click, copy, press enter)\u001b[0m\u001b[0;34m\u001b[0m\u001b[0;34m\u001b[0m\u001b[0m\n\u001b[0m",
            "\u001b[0;31mNameError\u001b[0m: name 'drive' is not defined"
          ]
        }
      ]
    },
    {
      "cell_type": "code",
      "metadata": {
        "colab": {
          "base_uri": "https://localhost:8080/"
        },
        "id": "y_3FGZM-LPdj",
        "outputId": "7be97af4-96bc-4b87-ba93-2929c8ad5853"
      },
      "source": [
        "#Inspect Directory\n",
        "!ls"
      ],
      "execution_count": null,
      "outputs": [
        {
          "output_type": "stream",
          "text": [
            "drive  sample_data\n"
          ],
          "name": "stdout"
        }
      ]
    },
    {
      "cell_type": "code",
      "metadata": {
        "id": "FllRyZJBLjqt",
        "colab": {
          "base_uri": "https://localhost:8080/"
        },
        "outputId": "2496571e-ff37-44e0-d5a1-8580982d0406"
      },
      "source": [
        "#NOTE: Use the site menu to find file path\n",
        "\n",
        "#Change Directory to data folder\n",
        "%cd /content/drive/My Drive/Dissertation/Data/Annual Reports/SEC"
      ],
      "execution_count": null,
      "outputs": [
        {
          "output_type": "stream",
          "text": [
            "/content/drive/My Drive/Dissertation/Data/Annual Reports/SEC\n"
          ],
          "name": "stdout"
        }
      ]
    },
    {
      "cell_type": "code",
      "metadata": {
        "id": "iwjq-Dhd2EVj",
        "colab": {
          "base_uri": "https://localhost:8080/"
        },
        "outputId": "289cc24d-aac9-4828-9a22-4a7259ae4764"
      },
      "source": [
        "#Make new directory for text ouptut \n",
        "!mkdir text_output"
      ],
      "execution_count": null,
      "outputs": [
        {
          "output_type": "stream",
          "text": [
            "mkdir: cannot create directory ‘text_output’: File exists\n"
          ],
          "name": "stdout"
        }
      ]
    },
    {
      "cell_type": "code",
      "metadata": {
        "id": "v3gI15i-IiQ6"
      },
      "source": [
        "#Set directory variables\n",
        "directory = '/content/drive/My Drive/Dissertation/Data/Annual Reports/SEC'\n",
        "new_directory = directory+\"/text_output/\""
      ],
      "execution_count": null,
      "outputs": []
    },
    {
      "cell_type": "markdown",
      "metadata": {
        "id": "iylv7fOkpSFD"
      },
      "source": [
        "# Define OCR Functions"
      ]
    },
    {
      "cell_type": "code",
      "metadata": {
        "id": "xGoFYDHmpTgF"
      },
      "source": [
        "def binarization(image):\n",
        "    \"\"\"\n",
        "\n",
        "    Function that applies binarization to the image.\n",
        "\n",
        "    Parameters\n",
        "    ----------\n",
        "    image : PIL.Image.Image\n",
        "        Image to be binarized.\n",
        "\n",
        "    Returns\n",
        "    -------\n",
        "    PIL.Image.Image\n",
        "        Binarized image.\n",
        "    \"\"\" \n",
        "    image = image.convert('RGB')\n",
        "    npimage = np.asarray(image).astype(np.uint8)  \n",
        "    npimage[:, :, 0] = 0\n",
        "    npimage[:, :, 2] = 0\n",
        "    im = cv2.cvtColor(npimage, cv2.COLOR_RGB2GRAY) \n",
        "    thresh = cv2.adaptiveThreshold(im,255,cv2.ADAPTIVE_THRESH_MEAN_C, cv2.THRESH_BINARY,11,2)\n",
        "    binimage = Image.fromarray(thresh) \n",
        "    return binimage\n",
        "\n",
        "\n",
        "def get_pages_as_images(file):\n",
        "    \"\"\"\n",
        "    Converts PDF pages into an image and performs binarization.\n",
        "  \n",
        "    Parameters\n",
        "    ----------\n",
        "    file : bytes\n",
        "        Document in `bytes` containing the `PDF`.\n",
        "\n",
        "    Returns\n",
        "    -------\n",
        "    PIL.Image.Image\n",
        "        Document transformed into image and binariezed\n",
        "    \"\"\" \n",
        "    images = convert_from_bytes(file, 250, grayscale=True)\n",
        "    images_return = []\n",
        "    num_page = 1\n",
        "    for image in images:\n",
        "        left = image.size[0]*0.05\n",
        "        right = image.size[0]*0.95\n",
        "        top = image.size[1]*0.05\n",
        "        bottom = image.size[1]*0.95\n",
        "        image = image.crop((left, top, right,bottom))\n",
        "        images_return.append(binarization(image))\n",
        "        \n",
        "    return images_return\n",
        "\n",
        "def get_ocr_documents(images):\n",
        "    \"\"\"\n",
        "\n",
        "    Cycles through PDF images with pytesseract and converts images to string.\n",
        "    \n",
        "    Parameters\n",
        "    ----------\n",
        "    images : PIL.Image.Image\n",
        "        Images resulting from PDF conversion.\n",
        "\n",
        "    Returns\n",
        "    -------\n",
        "    String\n",
        "        A text containing all pages from the PDF.\n",
        "    \"\"\" \n",
        "\n",
        "    pages_text = []\n",
        "    for image in images:\n",
        "      #https://stackoverflow.com/questions/44619077/pytesseract-ocr-multiple-config-options\n",
        "      pages_text.append(pytesseract.image_to_string(image, config='--psm 4' ,lang='eng'))\n",
        "    return ''.join(pages_text)\n",
        "\n",
        "def is_number(s):\n",
        "    \"\"\"\n",
        "\n",
        "    Checks if the variable is a number\n",
        "    \n",
        "    Parameters\n",
        "    ----------\n",
        "    image : int\n",
        "        The first parameter.\n",
        "\n",
        "    Returns\n",
        "    -------\n",
        "    bool\n",
        "        True if the type change occurs. False otherwise.\n",
        "    \"\"\" \n",
        "    try:\n",
        "        float(s)\n",
        "        return True\n",
        "    except ValueError:\n",
        "        return False"
      ],
      "execution_count": null,
      "outputs": []
    },
    {
      "cell_type": "markdown",
      "metadata": {
        "id": "pgB0efIII7TH"
      },
      "source": [
        "# Run OCR on documents\n"
      ]
    },
    {
      "cell_type": "code",
      "metadata": {
        "colab": {
          "base_uri": "https://localhost:8080/"
        },
        "id": "s2viqke5qBuX",
        "outputId": "e3e9211a-4e41-434c-ef65-e66f3318b92d"
      },
      "source": [
        "for filename in os.listdir(directory):\n",
        "    \n",
        "    if filename.endswith(\".pdf\"):\n",
        "        print(\"Starting OCR on {}\".format(filename))\n",
        "        #Load PDF\n",
        "        file_path = os.path.join(directory, filename)\n",
        "        pdf_file = open(file_path, \"rb\").read()\n",
        "\n",
        "        #OCR PDF\n",
        "        images = get_pages_as_images(pdf_file) \n",
        "        pages_text = get_ocr_documents(images)\n",
        "        print(\"Finished OCR\")\n",
        "\n",
        "        #Save to new Directory as TXT\n",
        "        base_name = os.path.splitext(os.path.basename(filename))[0] #removes \"PDF\"\n",
        "        output_file_name = \"{}_OCR.txt\".format(base_name) #creates output file name\n",
        "        output_file_path = new_directory+output_file_name\n",
        "        with open(output_file_path, 'w') as f:\n",
        "          f.write(pages_text)\n",
        "        print(\"Saved text as {}\".format(output_file_name))\n",
        "\n",
        "    else:\n",
        "        print(\"{} is not a PDF\".format(filename))\n",
        "        continue\n",
        "\n",
        "\n",
        "\n"
      ],
      "execution_count": null,
      "outputs": [
        {
          "output_type": "stream",
          "text": [
            "Starting OCR on U.S._Securities_and_Exchange_Commission_2006_Securities_and_Exchange.pdf\n",
            "Finished OCR\n",
            "Saved text as U.S._Securities_and_Exchange_Commission_2006_Securities_and_Exchange_OCR.txt\n",
            "Starting OCR on U.S._Securities_and_Exchange_Commission_1959_25th_Annual_Report_of_Securities_and_Exchange_Commission.pdf\n",
            "Finished OCR\n",
            "Saved text as U.S._Securities_and_Exchange_Commission_1959_25th_Annual_Report_of_Securities_and_Exchange_Commission_OCR.txt\n",
            "Starting OCR on U.S._Securities_and_Exchange_Commission_1964_30th_Annual_Report_1964.pdf\n",
            "Finished OCR\n",
            "Saved text as U.S._Securities_and_Exchange_Commission_1964_30th_Annual_Report_1964_OCR.txt\n",
            "Starting OCR on U.S._Securities_and_Exchange_Commission_1965_31st_Annual_Report_1965.pdf\n",
            "Finished OCR\n",
            "Saved text as U.S._Securities_and_Exchange_Commission_1965_31st_Annual_Report_1965_OCR.txt\n",
            "Starting OCR on U.S._Securities_and_Exchange_Commission_1966_32nd_Annual_Report_1966.pdf\n",
            "Finished OCR\n",
            "Saved text as U.S._Securities_and_Exchange_Commission_1966_32nd_Annual_Report_1966_OCR.txt\n",
            "Starting OCR on U.S._Securities_and_Exchange_Commission_1967_33rd_Annual_Report_1967.pdf\n",
            "Finished OCR\n",
            "Saved text as U.S._Securities_and_Exchange_Commission_1967_33rd_Annual_Report_1967_OCR.txt\n",
            "Starting OCR on U.S._Securities_and_Exchange_Commission_1968_34th_Annual_Report_1968.pdf\n",
            "Finished OCR\n",
            "Saved text as U.S._Securities_and_Exchange_Commission_1968_34th_Annual_Report_1968_OCR.txt\n",
            "Starting OCR on U.S._Securities_and_Exchange_Commission_1969_35th_Annual_Report.pdf\n",
            "Finished OCR\n",
            "Saved text as U.S._Securities_and_Exchange_Commission_1969_35th_Annual_Report_OCR.txt\n",
            "Starting OCR on U.S._Securities_and_Exchange_Commission_1970_36th_Annual_Report.pdf\n",
            "Finished OCR\n",
            "Saved text as U.S._Securities_and_Exchange_Commission_1970_36th_Annual_Report_OCR.txt\n",
            "Starting OCR on U.S._Securities_and_Exchange_Commission_1971_37th_Annual_Report.pdf\n",
            "Finished OCR\n",
            "Saved text as U.S._Securities_and_Exchange_Commission_1971_37th_Annual_Report_OCR.txt\n",
            "Starting OCR on U.S._Securities_and_Exchange_Commission_1972_38th_Annual_Report_of_the_Securities_and_Exchange_Commission.pdf\n",
            "Finished OCR\n",
            "Saved text as U.S._Securities_and_Exchange_Commission_1972_38th_Annual_Report_of_the_Securities_and_Exchange_Commission_OCR.txt\n",
            "Starting OCR on U.S._Securities_and_Exchange_Commission_1973_39th_Annual_Report_of_the_SEC.pdf\n",
            "Finished OCR\n",
            "Saved text as U.S._Securities_and_Exchange_Commission_1973_39th_Annual_Report_of_the_SEC_OCR.txt\n",
            "Starting OCR on U.S._Securities_and_Exchange_Commission_1974_42th_Annual_Report_of_the_SEC.pdf\n",
            "Finished OCR\n",
            "Saved text as U.S._Securities_and_Exchange_Commission_1974_42th_Annual_Report_of_the_SEC_OCR.txt\n",
            "Starting OCR on U.S._Securities_and_Exchange_Commission_1975_41st_Annual_Report_of_the_SEC.pdf\n",
            "Finished OCR\n",
            "Saved text as U.S._Securities_and_Exchange_Commission_1975_41st_Annual_Report_of_the_SEC_OCR.txt\n",
            "Starting OCR on U.S._Securities_and_Exchange_Commission_1976_42nd_Annual_Report_of_the_SEC.pdf\n",
            "Finished OCR\n",
            "Saved text as U.S._Securities_and_Exchange_Commission_1976_42nd_Annual_Report_of_the_SEC_OCR.txt\n",
            "Starting OCR on U.S._Securities_and_Exchange_Commission_1977_43rd_Annual_Report_of_the_SEC.pdf\n",
            "Finished OCR\n",
            "Saved text as U.S._Securities_and_Exchange_Commission_1977_43rd_Annual_Report_of_the_SEC_OCR.txt\n",
            "Starting OCR on U.S._Securities_and_Exchange_Commission_1978_44th_Annual_Report_of_the_SEC.pdf\n",
            "Finished OCR\n",
            "Saved text as U.S._Securities_and_Exchange_Commission_1978_44th_Annual_Report_of_the_SEC_OCR.txt\n",
            "Starting OCR on U.S._Securities_and_Exchange_Commission_1979_45th_Annual_Report_of_the_Securities_and_Exchange_Commission.pdf\n",
            "Finished OCR\n",
            "Saved text as U.S._Securities_and_Exchange_Commission_1979_45th_Annual_Report_of_the_Securities_and_Exchange_Commission_OCR.txt\n",
            "Starting OCR on U.S._Securities_and_Exchange_Commission_1947_Thirteenth_Annual_Report_of_the_Securities_and_Commission.pdf\n",
            "Finished OCR\n",
            "Saved text as U.S._Securities_and_Exchange_Commission_1947_Thirteenth_Annual_Report_of_the_Securities_and_Commission_OCR.txt\n",
            "Starting OCR on U.S._Securities_and_Exchange_Commission_1999_Annual_Report_of_the_Securities_and_Exchange_Commission_for_fiscal_year_1999.pdf\n",
            "Finished OCR\n",
            "Saved text as U.S._Securities_and_Exchange_Commission_1999_Annual_Report_of_the_Securities_and_Exchange_Commission_for_fiscal_year_1999_OCR.txt\n",
            "Starting OCR on U.S._Securities_and_Exchange_Commission_2000_Annual_Report_of_the_Securities_and_Exchange_Commission_for_fiscal_year_2000.pdf\n",
            "Finished OCR\n",
            "Saved text as U.S._Securities_and_Exchange_Commission_2000_Annual_Report_of_the_Securities_and_Exchange_Commission_for_fiscal_year_2000_OCR.txt\n",
            "Starting OCR on U.S._Securities_and_Exchange_Commission_2001_Annual_Report_of_the_Securities_and_Exchange_Commission_for_fiscal_year_2001.pdf\n",
            "Finished OCR\n",
            "Saved text as U.S._Securities_and_Exchange_Commission_2001_Annual_Report_of_the_Securities_and_Exchange_Commission_for_fiscal_year_2001_OCR.txt\n",
            "Starting OCR on U.S._Securities_and_Exchange_Commission_2002_Annual_Report_of_the_Securities_and_Exchange_Commission_for_fiscal_year_2002.pdf\n",
            "Finished OCR\n",
            "Saved text as U.S._Securities_and_Exchange_Commission_2002_Annual_Report_of_the_Securities_and_Exchange_Commission_for_fiscal_year_2002_OCR.txt\n",
            "Starting OCR on U.S._Securities_and_Exchange_Commission_2003_Annual_Report_2003.pdf\n",
            "Finished OCR\n",
            "Saved text as U.S._Securities_and_Exchange_Commission_2003_Annual_Report_2003_OCR.txt\n",
            "Starting OCR on U.S._Securities_and_Exchange_Commission_2004_2004_Performance_and_Accountablity_Report.pdf\n",
            "Finished OCR\n",
            "Saved text as U.S._Securities_and_Exchange_Commission_2004_2004_Performance_and_Accountablity_Report_OCR.txt\n",
            "Starting OCR on U.S._Securities_and_Exchange_Commission_2005_2005_Performance_and_Accountablity_Report.pdf\n",
            "Finished OCR\n",
            "Saved text as U.S._Securities_and_Exchange_Commission_2005_2005_Performance_and_Accountablity_Report_OCR.txt\n",
            "Starting OCR on U.S._Securities_and_Exchange_Commission_2007_2007_Performance_and_Accountability_Report.pdf\n",
            "Finished OCR\n",
            "Saved text as U.S._Securities_and_Exchange_Commission_2007_2007_Performance_and_Accountability_Report_OCR.txt\n",
            "Starting OCR on U.S._Securities_and_Exchange_Commission_2008_2008_Performance_and_Accountability_Report.pdf\n",
            "Finished OCR\n",
            "Saved text as U.S._Securities_and_Exchange_Commission_2008_2008_Performance_and_Accountability_Report_OCR.txt\n",
            "Starting OCR on U.S._Securities_and_Exchange_Commission_2009_2009_Performance_and_Accountability_Report.pdf\n",
            "Finished OCR\n",
            "Saved text as U.S._Securities_and_Exchange_Commission_2009_2009_Performance_and_Accountability_Report_OCR.txt\n",
            "Starting OCR on U.S._Securities_and_Exchange_Commission_2011_2011_Performance_and_Accountability_Report.pdf\n",
            "Finished OCR\n",
            "Saved text as U.S._Securities_and_Exchange_Commission_2011_2011_Performance_and_Accountability_Report_OCR.txt\n",
            "Starting OCR on U.S._Securities_and_Exchange_Commission_2012_FIscal_Year_2012_Agency_Financial_Report.pdf\n",
            "Finished OCR\n",
            "Saved text as U.S._Securities_and_Exchange_Commission_2012_FIscal_Year_2012_Agency_Financial_Report_OCR.txt\n",
            "Starting OCR on U.S._Securities_and_Exchange_Commission_2013_FIscal_Year_2013_Agency_Financial_Report.pdf\n",
            "Finished OCR\n",
            "Saved text as U.S._Securities_and_Exchange_Commission_2013_FIscal_Year_2013_Agency_Financial_Report_OCR.txt\n",
            "Starting OCR on U.S._Securities_and_Exchange_Commission_2014_Agency_Financial_Report_for_Fiscal_Year_2014.pdf\n",
            "Finished OCR\n",
            "Saved text as U.S._Securities_and_Exchange_Commission_2014_Agency_Financial_Report_for_Fiscal_Year_2014_OCR.txt\n",
            "Starting OCR on U.S._Securities_and_Exchange_Commission_2015_Agency_Financial_Report_Fiscal_Year_2015.pdf\n",
            "Finished OCR\n",
            "Saved text as U.S._Securities_and_Exchange_Commission_2015_Agency_Financial_Report_Fiscal_Year_2015_OCR.txt\n",
            "Starting OCR on U.S._Securities_and_Exchange_Commission_2017_Agency_Financial_Report_for_Fiscal_Year_2017.pdf\n",
            "Finished OCR\n",
            "Saved text as U.S._Securities_and_Exchange_Commission_2017_Agency_Financial_Report_for_Fiscal_Year_2017_OCR.txt\n",
            "Starting OCR on U.S._Securities_and_Exchange_Commission_2018_Agency_Financial_Report_for_Fiscal_Year_2018.pdf\n",
            "Finished OCR\n",
            "Saved text as U.S._Securities_and_Exchange_Commission_2018_Agency_Financial_Report_for_Fiscal_Year_2018_OCR.txt\n",
            "Starting OCR on U.S._Securities_and_Exchange_Commission_2019_Agency_Financial_Report_for_Fiscal_Year_2019.pdf\n",
            "Finished OCR\n",
            "Saved text as U.S._Securities_and_Exchange_Commission_2019_Agency_Financial_Report_for_Fiscal_Year_2019_OCR.txt\n",
            "Starting OCR on U.S._Securities_and_Exchange_Commission_2020_Agency_Financial_Report_for_Fiscal_Year_2020.pdf\n",
            "Finished OCR\n",
            "Saved text as U.S._Securities_and_Exchange_Commission_2020_Agency_Financial_Report_for_Fiscal_Year_2020_OCR.txt\n",
            "Starting OCR on U.S._Securities_and_Exchange_Commission_2016_Agency_Financial_Report_for_Fiscal_Year_2016.pdf\n",
            "Finished OCR\n",
            "Saved text as U.S._Securities_and_Exchange_Commission_2016_Agency_Financial_Report_for_Fiscal_Year_2016_OCR.txt\n",
            "Starting OCR on U.S._Securities_and_Exchange_Commission_2010_FY_2010_Performance_and_Accountability_Report.pdf\n",
            "Finished OCR\n",
            "Saved text as U.S._Securities_and_Exchange_Commission_2010_FY_2010_Performance_and_Accountability_Report_OCR.txt\n",
            "Starting OCR on U.S._Securities_and_Exchange_Commission_1957_Securities_and_Exchange.pdf\n",
            "Finished OCR\n",
            "Saved text as U.S._Securities_and_Exchange_Commission_1957_Securities_and_Exchange_OCR.txt\n",
            "Starting OCR on U.S._Securities_and_Exchange_Commission_1958_24th_Annual_Report.pdf\n",
            "Finished OCR\n",
            "Saved text as U.S._Securities_and_Exchange_Commission_1958_24th_Annual_Report_OCR.txt\n",
            "Starting OCR on U.S._Securities_and_Exchange_Commission_1995_United_States_Securities_and_Exchange_Commission.pdf\n",
            "Finished OCR\n",
            "Saved text as U.S._Securities_and_Exchange_Commission_1995_United_States_Securities_and_Exchange_Commission_OCR.txt\n",
            "text_output is not a PDF\n",
            "PDF is not a PDF\n"
          ],
          "name": "stdout"
        }
      ]
    },
    {
      "cell_type": "markdown",
      "metadata": {
        "id": "a9VIl5R_2WTK"
      },
      "source": [
        "Go to text_output Drive folder to view "
      ]
    },
    {
      "cell_type": "code",
      "metadata": {
        "colab": {
          "base_uri": "https://localhost:8080/"
        },
        "id": "g0xhyxdO2iFn",
        "outputId": "47873c7c-598d-4fa6-8ff1-d1c682efd010"
      },
      "source": [
        "%cd directory+\"/text_output/\""
      ],
      "execution_count": 2,
      "outputs": [
        {
          "output_type": "stream",
          "text": [
            "[Errno 2] No such file or directory: 'directory+/text_output/'\n",
            "/content\n"
          ],
          "name": "stdout"
        }
      ]
    }
  ]
}